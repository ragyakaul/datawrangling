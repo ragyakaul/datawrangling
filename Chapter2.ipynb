{
 "cells": [
  {
   "cell_type": "code",
   "execution_count": 1,
   "id": "f1e055e2",
   "metadata": {},
   "outputs": [
    {
     "data": {
      "text/plain": [
       "0.30000000000000004"
      ]
     },
     "execution_count": 1,
     "metadata": {},
     "output_type": "execute_result"
    }
   ],
   "source": [
    "0.1 + 0.2\n"
   ]
  },
  {
   "cell_type": "code",
   "execution_count": 2,
   "id": "5e253390",
   "metadata": {},
   "outputs": [
    {
     "data": {
      "text/plain": [
       "Decimal('0.3')"
      ]
     },
     "execution_count": 2,
     "metadata": {},
     "output_type": "execute_result"
    }
   ],
   "source": [
    "from decimal import getcontext, Decimal\n",
    "getcontext().prec = 1\n",
    "Decimal(0.1) + Decimal(0.2)"
   ]
  },
  {
   "cell_type": "code",
   "execution_count": 3,
   "id": "20968938",
   "metadata": {},
   "outputs": [],
   "source": [
    "# line 2 above sets rounding precision to one decimal point"
   ]
  },
  {
   "cell_type": "code",
   "execution_count": 4,
   "id": "4ba33520",
   "metadata": {},
   "outputs": [],
   "source": [
    "filename = 'budget.csv'"
   ]
  },
  {
   "cell_type": "code",
   "execution_count": 4,
   "id": "981f591d",
   "metadata": {},
   "outputs": [],
   "source": [
    "cats = 42"
   ]
  },
  {
   "cell_type": "code",
   "execution_count": null,
   "id": "77b8985d",
   "metadata": {},
   "outputs": [],
   "source": [
    ">>> cats"
   ]
  },
  {
   "cell_type": "code",
   "execution_count": 3,
   "id": "76384e29",
   "metadata": {},
   "outputs": [
    {
     "ename": "NameError",
     "evalue": "name 'cats' is not defined",
     "output_type": "error",
     "traceback": [
      "\u001b[0;31m---------------------------------------------------------------------------\u001b[0m",
      "\u001b[0;31mNameError\u001b[0m                                 Traceback (most recent call last)",
      "\u001b[0;32m/var/folders/99/cblmhx9x0tz6hyy2yt6cmp9r0000gn/T/ipykernel_13932/3674460945.py\u001b[0m in \u001b[0;36m<module>\u001b[0;34m\u001b[0m\n\u001b[0;32m----> 1\u001b[0;31m \u001b[0mcats\u001b[0m\u001b[0;34m\u001b[0m\u001b[0;34m\u001b[0m\u001b[0m\n\u001b[0m",
      "\u001b[0;31mNameError\u001b[0m: name 'cats' is not defined"
     ]
    }
   ],
   "source": [
    "cats"
   ]
  },
  {
   "cell_type": "code",
   "execution_count": 5,
   "id": "46a7981b",
   "metadata": {},
   "outputs": [
    {
     "data": {
      "text/plain": [
       "42"
      ]
     },
     "execution_count": 5,
     "metadata": {},
     "output_type": "execute_result"
    }
   ],
   "source": [
    "cats"
   ]
  },
  {
   "cell_type": "code",
   "execution_count": null,
   "id": "39272310",
   "metadata": {},
   "outputs": [],
   "source": []
  },
  {
   "cell_type": "code",
   "execution_count": null,
   "id": "607fc357",
   "metadata": {},
   "outputs": [],
   "source": [
    "cats = 42"
   ]
  },
  {
   "cell_type": "code",
   "execution_count": null,
   "id": "cb4ce864",
   "metadata": {},
   "outputs": [],
   "source": [
    "cats"
   ]
  },
  {
   "cell_type": "code",
   "execution_count": null,
   "id": "f6f04193",
   "metadata": {},
   "outputs": [],
   "source": [
    "print(cats)"
   ]
  },
  {
   "cell_type": "code",
   "execution_count": null,
   "id": "ca1ef570",
   "metadata": {},
   "outputs": [],
   "source": []
  },
  {
   "cell_type": "code",
   "execution_count": null,
   "id": "3aa1fa68",
   "metadata": {},
   "outputs": [],
   "source": [
    "dogs"
   ]
  },
  {
   "cell_type": "code",
   "execution_count": null,
   "id": "ec9fadb2",
   "metadata": {},
   "outputs": [],
   "source": [
    "cats = 42"
   ]
  },
  {
   "cell_type": "code",
   "execution_count": null,
   "id": "c787cc72",
   "metadata": {},
   "outputs": [],
   "source": [
    "cats"
   ]
  },
  {
   "cell_type": "code",
   "execution_count": 6,
   "id": "dd599802",
   "metadata": {},
   "outputs": [
    {
     "data": {
      "text/plain": [
       "3"
      ]
     },
     "execution_count": 6,
     "metadata": {},
     "output_type": "execute_result"
    }
   ],
   "source": [
    "1 + 2"
   ]
  },
  {
   "cell_type": "markdown",
   "id": "b5da9e16",
   "metadata": {},
   "source": [
    "dogs"
   ]
  },
  {
   "cell_type": "code",
   "execution_count": 7,
   "id": "d664a3bb",
   "metadata": {},
   "outputs": [
    {
     "ename": "NameError",
     "evalue": "name 'dogs' is not defined",
     "output_type": "error",
     "traceback": [
      "\u001b[0;31m---------------------------------------------------------------------------\u001b[0m",
      "\u001b[0;31mNameError\u001b[0m                                 Traceback (most recent call last)",
      "\u001b[0;32m/var/folders/99/cblmhx9x0tz6hyy2yt6cmp9r0000gn/T/ipykernel_13932/2443923165.py\u001b[0m in \u001b[0;36m<module>\u001b[0;34m\u001b[0m\n\u001b[0;32m----> 1\u001b[0;31m \u001b[0mdogs\u001b[0m\u001b[0;34m\u001b[0m\u001b[0;34m\u001b[0m\u001b[0m\n\u001b[0m",
      "\u001b[0;31mNameError\u001b[0m: name 'dogs' is not defined"
     ]
    }
   ],
   "source": [
    "dogs"
   ]
  },
  {
   "cell_type": "code",
   "execution_count": 8,
   "id": "f7f3f6c5",
   "metadata": {},
   "outputs": [],
   "source": [
    "recipe = \"A recipe isn't just a list of ingredients.\""
   ]
  },
  {
   "cell_type": "code",
   "execution_count": 9,
   "id": "38cb748a",
   "metadata": {},
   "outputs": [
    {
     "data": {
      "text/plain": [
       "\"A recipe isn't just a list of ingredients.\""
      ]
     },
     "execution_count": 9,
     "metadata": {},
     "output_type": "execute_result"
    }
   ],
   "source": [
    "recipe"
   ]
  },
  {
   "cell_type": "code",
   "execution_count": 10,
   "id": "1b523e61",
   "metadata": {},
   "outputs": [
    {
     "data": {
      "text/plain": [
       "['milk', 'lettuce', 'eggs']"
      ]
     },
     "execution_count": 10,
     "metadata": {},
     "output_type": "execute_result"
    }
   ],
   "source": [
    "['milk','lettuce','eggs']"
   ]
  },
  {
   "cell_type": "code",
   "execution_count": 11,
   "id": "67e6f9a2",
   "metadata": {},
   "outputs": [
    {
     "data": {
      "text/plain": [
       "[0, 1.0, 5, 10.0]"
      ]
     },
     "execution_count": 11,
     "metadata": {},
     "output_type": "execute_result"
    }
   ],
   "source": [
    "[0,1.0,5,10.0]"
   ]
  },
  {
   "cell_type": "code",
   "execution_count": 12,
   "id": "dc2cb958",
   "metadata": {},
   "outputs": [],
   "source": [
    "shopping_list = ['milk', 'lettuce', 'eggs']"
   ]
  },
  {
   "cell_type": "code",
   "execution_count": 13,
   "id": "f779b8aa",
   "metadata": {},
   "outputs": [
    {
     "data": {
      "text/plain": [
       "['milk', 'lettuce', 'eggs']"
      ]
     },
     "execution_count": 13,
     "metadata": {},
     "output_type": "execute_result"
    }
   ],
   "source": [
    "shopping_list"
   ]
  },
  {
   "cell_type": "code",
   "execution_count": 14,
   "id": "4d048844",
   "metadata": {},
   "outputs": [],
   "source": [
    "cats = 2\n",
    "dogs = 5\n",
    "horses = 1"
   ]
  },
  {
   "cell_type": "code",
   "execution_count": 15,
   "id": "b126a507",
   "metadata": {},
   "outputs": [],
   "source": [
    "animal_counts = [cats, dogs, horses]"
   ]
  },
  {
   "cell_type": "code",
   "execution_count": 16,
   "id": "1f82ba50",
   "metadata": {},
   "outputs": [
    {
     "data": {
      "text/plain": [
       "[2, 5, 1]"
      ]
     },
     "execution_count": 16,
     "metadata": {},
     "output_type": "execute_result"
    }
   ],
   "source": [
    "animal_counts"
   ]
  },
  {
   "cell_type": "code",
   "execution_count": 17,
   "id": "9c3f9414",
   "metadata": {},
   "outputs": [],
   "source": [
    "cat_names = ['Walter', 'Ra']"
   ]
  },
  {
   "cell_type": "code",
   "execution_count": 18,
   "id": "3598cff7",
   "metadata": {},
   "outputs": [],
   "source": [
    "dog_names = ['Joker', 'Simon', 'Ellie', 'Lishka', 'Fido']\n",
    "horse_names = ['Mr.Ed']\n",
    "animal_names = [cat_names, dog_names, horse_names]"
   ]
  },
  {
   "cell_type": "code",
   "execution_count": 19,
   "id": "7555a152",
   "metadata": {},
   "outputs": [
    {
     "data": {
      "text/plain": [
       "[['Walter', 'Ra'], ['Joker', 'Simon', 'Ellie', 'Lishka', 'Fido'], ['Mr.Ed']]"
      ]
     },
     "execution_count": 19,
     "metadata": {},
     "output_type": "execute_result"
    }
   ],
   "source": [
    "animal_names"
   ]
  },
  {
   "cell_type": "code",
   "execution_count": 20,
   "id": "d72313fb",
   "metadata": {},
   "outputs": [],
   "source": [
    "animal_counts = {'cats': 2, 'dogs': 5, 'horses' : 1}"
   ]
  },
  {
   "cell_type": "code",
   "execution_count": 21,
   "id": "d7a9cd3e",
   "metadata": {},
   "outputs": [
    {
     "data": {
      "text/plain": [
       "5"
      ]
     },
     "execution_count": 21,
     "metadata": {},
     "output_type": "execute_result"
    }
   ],
   "source": [
    "animal_counts['dogs']"
   ]
  },
  {
   "cell_type": "code",
   "execution_count": 22,
   "id": "f0db1731",
   "metadata": {},
   "outputs": [],
   "source": [
    "# In the above example, animal_counts is the key and the counts of each animal type is the value"
   ]
  },
  {
   "cell_type": "code",
   "execution_count": 23,
   "id": "f4e61949",
   "metadata": {},
   "outputs": [],
   "source": [
    "animal_names = {\n",
    "    'cats': ['Walter', 'Ra'],\n",
    "    'dogs':['Joker', 'Simon', 'Ellie', 'Lishka', 'Fido'],\n",
    "    'horses':['Mr.Ed'],\n",
    "}"
   ]
  },
  {
   "cell_type": "code",
   "execution_count": 24,
   "id": "f2d7eb7a",
   "metadata": {},
   "outputs": [
    {
     "data": {
      "text/plain": [
       "{'cats': ['Walter', 'Ra'],\n",
       " 'dogs': ['Joker', 'Simon', 'Ellie', 'Lishka', 'Fido'],\n",
       " 'horses': ['Mr.Ed']}"
      ]
     },
     "execution_count": 24,
     "metadata": {},
     "output_type": "execute_result"
    }
   ],
   "source": [
    "animal_names"
   ]
  },
  {
   "cell_type": "code",
   "execution_count": 25,
   "id": "ab22c6cf",
   "metadata": {},
   "outputs": [
    {
     "ename": "IndentationError",
     "evalue": "unexpected indent (2754015518.py, line 2)",
     "output_type": "error",
     "traceback": [
      "\u001b[0;36m  File \u001b[0;32m\"/var/folders/99/cblmhx9x0tz6hyy2yt6cmp9r0000gn/T/ipykernel_13932/2754015518.py\"\u001b[0;36m, line \u001b[0;32m2\u001b[0m\n\u001b[0;31m    dog_names = ['Joker', 'Simon', 'Ellie', 'Lishka', 'Fido']\u001b[0m\n\u001b[0m    ^\u001b[0m\n\u001b[0;31mIndentationError\u001b[0m\u001b[0;31m:\u001b[0m unexpected indent\n"
     ]
    }
   ],
   "source": [
    " cat_names = ['Walter', 'Ra']\n",
    "    dog_names = ['Joker', 'Simon', 'Ellie', 'Lishka', 'Fido']\n",
    "    horse_names = ['Mr. Ed']\n",
    "    animal_names = {\n",
    "        'cats': cat_names,\n",
    "        'dogs': dog_names,\n",
    "        'horses': horse_names\n",
    "        }\n"
   ]
  },
  {
   "cell_type": "code",
   "execution_count": 28,
   "id": "1927e33a",
   "metadata": {},
   "outputs": [],
   "source": [
    "cat_names = ['Walter', 'Ra']\n",
    "dog_names = ['Joker', 'Simon', 'Ellie', 'Lishka', 'Fido']\n",
    "horse_names = ['Mr. Ed']\n",
    "# defines variables as a list of strings"
   ]
  },
  {
   "cell_type": "code",
   "execution_count": 27,
   "id": "5f8f0ea3",
   "metadata": {},
   "outputs": [],
   "source": [
    "animal_names = {\n",
    "    'cats': cat_names,\n",
    "    'dogs': dog_names,\n",
    "    'horses': horse_names\n",
    "    }\n",
    "# uses the var cat_names to pass that list of names as the value \n",
    "# for the keys 'cats' in the dictionary"
   ]
  },
  {
   "cell_type": "code",
   "execution_count": 29,
   "id": "41e7060a",
   "metadata": {},
   "outputs": [
    {
     "ename": "SyntaxError",
     "evalue": "EOL while scanning string literal (1014490897.py, line 1)",
     "output_type": "error",
     "traceback": [
      "\u001b[0;36m  File \u001b[0;32m\"/var/folders/99/cblmhx9x0tz6hyy2yt6cmp9r0000gn/T/ipykernel_13932/1014490897.py\"\u001b[0;36m, line \u001b[0;32m1\u001b[0m\n\u001b[0;31m    filename = 'budge.csv\u001b[0m\n\u001b[0m                         ^\u001b[0m\n\u001b[0;31mSyntaxError\u001b[0m\u001b[0;31m:\u001b[0m EOL while scanning string literal\n"
     ]
    }
   ],
   "source": []
  },
  {
   "cell_type": "code",
   "execution_count": 30,
   "id": "2acdd563",
   "metadata": {},
   "outputs": [],
   "source": [
    "filename = 'budget.csv'\n",
    "filename = filename.strip()"
   ]
  },
  {
   "cell_type": "code",
   "execution_count": 31,
   "id": "b7811292",
   "metadata": {},
   "outputs": [
    {
     "data": {
      "text/plain": [
       "'budget.csv'"
      ]
     },
     "execution_count": 31,
     "metadata": {},
     "output_type": "execute_result"
    }
   ],
   "source": [
    "filename"
   ]
  },
  {
   "cell_type": "code",
   "execution_count": 32,
   "id": "3a4f120a",
   "metadata": {},
   "outputs": [
    {
     "data": {
      "text/plain": [
       "'BUDGET.CSV'"
      ]
     },
     "execution_count": 32,
     "metadata": {},
     "output_type": "execute_result"
    }
   ],
   "source": [
    "filename.upper()"
   ]
  },
  {
   "cell_type": "code",
   "execution_count": 1,
   "id": "346c8d23",
   "metadata": {},
   "outputs": [],
   "source": [
    "answer = 40 + 2"
   ]
  },
  {
   "cell_type": "code",
   "execution_count": 2,
   "id": "b1bab341",
   "metadata": {},
   "outputs": [
    {
     "data": {
      "text/plain": [
       "42"
      ]
     },
     "execution_count": 2,
     "metadata": {},
     "output_type": "execute_result"
    }
   ],
   "source": [
    "answer"
   ]
  },
  {
   "cell_type": "code",
   "execution_count": 3,
   "id": "8008e075",
   "metadata": {},
   "outputs": [],
   "source": [
    "square = 42**2"
   ]
  },
  {
   "cell_type": "code",
   "execution_count": 4,
   "id": "d3c5562d",
   "metadata": {},
   "outputs": [
    {
     "data": {
      "text/plain": [
       "1764"
      ]
     },
     "execution_count": 4,
     "metadata": {},
     "output_type": "execute_result"
    }
   ],
   "source": [
    "square"
   ]
  },
  {
   "cell_type": "code",
   "execution_count": 5,
   "id": "bc4abfcb",
   "metadata": {},
   "outputs": [
    {
     "data": {
      "text/plain": [
       "'This isawesome'"
      ]
     },
     "execution_count": 5,
     "metadata": {},
     "output_type": "execute_result"
    }
   ],
   "source": [
    "'This is' + 'awesome'"
   ]
  },
  {
   "cell_type": "code",
   "execution_count": 6,
   "id": "9fac7f9a",
   "metadata": {},
   "outputs": [
    {
     "data": {
      "text/plain": [
       "['Joker', 'Simon', 'Ellie']"
      ]
     },
     "execution_count": 6,
     "metadata": {},
     "output_type": "execute_result"
    }
   ],
   "source": [
    "['Joker', 'Simon'] + ['Ellie']"
   ]
  },
  {
   "cell_type": "code",
   "execution_count": 7,
   "id": "50f55783",
   "metadata": {},
   "outputs": [
    {
     "ename": "TypeError",
     "evalue": "unsupported operand type(s) for -: 'list' and 'list'",
     "output_type": "error",
     "traceback": [
      "\u001b[0;31m---------------------------------------------------------------------------\u001b[0m",
      "\u001b[0;31mTypeError\u001b[0m                                 Traceback (most recent call last)",
      "\u001b[0;32m/var/folders/99/cblmhx9x0tz6hyy2yt6cmp9r0000gn/T/ipykernel_23171/3236623841.py\u001b[0m in \u001b[0;36m<module>\u001b[0;34m\u001b[0m\n\u001b[0;32m----> 1\u001b[0;31m \u001b[0;34m[\u001b[0m\u001b[0;34m'Joker'\u001b[0m\u001b[0;34m,\u001b[0m \u001b[0;34m'Simon'\u001b[0m\u001b[0;34m]\u001b[0m \u001b[0;34m-\u001b[0m \u001b[0;34m[\u001b[0m\u001b[0;34m'Simon'\u001b[0m\u001b[0;34m]\u001b[0m\u001b[0;34m\u001b[0m\u001b[0;34m\u001b[0m\u001b[0m\n\u001b[0m",
      "\u001b[0;31mTypeError\u001b[0m: unsupported operand type(s) for -: 'list' and 'list'"
     ]
    }
   ],
   "source": [
    "['Joker', 'Simon'] - ['Simon']"
   ]
  },
  {
   "cell_type": "code",
   "execution_count": 8,
   "id": "f90d69c4",
   "metadata": {},
   "outputs": [],
   "source": [
    "dog_names = []"
   ]
  },
  {
   "cell_type": "code",
   "execution_count": 9,
   "id": "9936f859",
   "metadata": {},
   "outputs": [
    {
     "data": {
      "text/plain": [
       "[]"
      ]
     },
     "execution_count": 9,
     "metadata": {},
     "output_type": "execute_result"
    }
   ],
   "source": [
    "dog_names"
   ]
  },
  {
   "cell_type": "code",
   "execution_count": 10,
   "id": "cb6f7536",
   "metadata": {},
   "outputs": [],
   "source": [
    "# The append function\n",
    "dog_names.append('Joker') "
   ]
  },
  {
   "cell_type": "code",
   "execution_count": 11,
   "id": "a7b1799a",
   "metadata": {},
   "outputs": [
    {
     "data": {
      "text/plain": [
       "['Joker']"
      ]
     },
     "execution_count": 11,
     "metadata": {},
     "output_type": "execute_result"
    }
   ],
   "source": [
    "dog_names"
   ]
  },
  {
   "cell_type": "code",
   "execution_count": 12,
   "id": "c702c2b7",
   "metadata": {},
   "outputs": [
    {
     "ename": "TypeError",
     "evalue": "list.append() takes exactly one argument (4 given)",
     "output_type": "error",
     "traceback": [
      "\u001b[0;31m---------------------------------------------------------------------------\u001b[0m",
      "\u001b[0;31mTypeError\u001b[0m                                 Traceback (most recent call last)",
      "\u001b[0;32m/var/folders/99/cblmhx9x0tz6hyy2yt6cmp9r0000gn/T/ipykernel_23171/3084416156.py\u001b[0m in \u001b[0;36m<module>\u001b[0;34m\u001b[0m\n\u001b[0;32m----> 1\u001b[0;31m \u001b[0mdog_names\u001b[0m\u001b[0;34m.\u001b[0m\u001b[0mappend\u001b[0m\u001b[0;34m(\u001b[0m\u001b[0;34m'Simon'\u001b[0m\u001b[0;34m,\u001b[0m \u001b[0;34m'Ellie'\u001b[0m\u001b[0;34m,\u001b[0m \u001b[0;34m'Lishka'\u001b[0m\u001b[0;34m,\u001b[0m \u001b[0;34m'Turtle'\u001b[0m\u001b[0;34m)\u001b[0m\u001b[0;34m\u001b[0m\u001b[0;34m\u001b[0m\u001b[0m\n\u001b[0m",
      "\u001b[0;31mTypeError\u001b[0m: list.append() takes exactly one argument (4 given)"
     ]
    }
   ],
   "source": [
    "dog_names.append('Simon', 'Ellie', 'Lishka', 'Turtle') #does not work"
   ]
  },
  {
   "cell_type": "code",
   "execution_count": 13,
   "id": "0ad6b4ef",
   "metadata": {},
   "outputs": [],
   "source": [
    "dog_names.append('Simon')"
   ]
  },
  {
   "cell_type": "code",
   "execution_count": 14,
   "id": "3fc8adf2",
   "metadata": {},
   "outputs": [
    {
     "data": {
      "text/plain": [
       "['Joker', 'Simon']"
      ]
     },
     "execution_count": 14,
     "metadata": {},
     "output_type": "execute_result"
    }
   ],
   "source": [
    "dog_names"
   ]
  },
  {
   "cell_type": "code",
   "execution_count": 15,
   "id": "4c5b0ab6",
   "metadata": {},
   "outputs": [],
   "source": [
    "# The remove function\n",
    "dog_names.remove('Simon')"
   ]
  },
  {
   "cell_type": "code",
   "execution_count": 16,
   "id": "a0bcc74d",
   "metadata": {},
   "outputs": [
    {
     "data": {
      "text/plain": [
       "['Joker']"
      ]
     },
     "execution_count": 16,
     "metadata": {},
     "output_type": "execute_result"
    }
   ],
   "source": [
    "dog_names"
   ]
  },
  {
   "cell_type": "code",
   "execution_count": 17,
   "id": "37fe8887",
   "metadata": {},
   "outputs": [],
   "source": [
    "animal_counts = {}"
   ]
  },
  {
   "cell_type": "code",
   "execution_count": 18,
   "id": "df13cac2",
   "metadata": {},
   "outputs": [],
   "source": [
    "# The key in this case is 'horses' and the value is 1.\n",
    "animal_counts['horses'] = 1"
   ]
  },
  {
   "cell_type": "code",
   "execution_count": 19,
   "id": "35d01e66",
   "metadata": {},
   "outputs": [],
   "source": [
    "animal_counts['cats'] = 2\n",
    "animal_counts['dogs'] = 5\n",
    "animal_counts['snakes'] = 0"
   ]
  },
  {
   "cell_type": "code",
   "execution_count": 20,
   "id": "da90b877",
   "metadata": {},
   "outputs": [
    {
     "data": {
      "text/plain": [
       "{'horses': 1, 'cats': 2, 'dogs': 5, 'snakes': 0}"
      ]
     },
     "execution_count": 20,
     "metadata": {},
     "output_type": "execute_result"
    }
   ],
   "source": [
    "animal_counts"
   ]
  },
  {
   "cell_type": "code",
   "execution_count": 21,
   "id": "73274831",
   "metadata": {},
   "outputs": [
    {
     "data": {
      "text/plain": [
       "dict_keys(['horses', 'cats', 'dogs', 'snakes'])"
      ]
     },
     "execution_count": 21,
     "metadata": {},
     "output_type": "execute_result"
    }
   ],
   "source": [
    "#The following command returns all the keys the dictionary holds:\n",
    "animal_counts.keys()"
   ]
  },
  {
   "cell_type": "code",
   "execution_count": 22,
   "id": "3c29f07f",
   "metadata": {},
   "outputs": [
    {
     "data": {
      "text/plain": [
       "5"
      ]
     },
     "execution_count": 22,
     "metadata": {},
     "output_type": "execute_result"
    }
   ],
   "source": [
    "#The following lookup will return the number (value) of (key) dogs:\n",
    "animal_counts['dogs']"
   ]
  },
  {
   "cell_type": "code",
   "execution_count": 23,
   "id": "2f9f209e",
   "metadata": {},
   "outputs": [],
   "source": [
    "dogs = animal_counts['dogs']"
   ]
  },
  {
   "cell_type": "code",
   "execution_count": 24,
   "id": "9412c68d",
   "metadata": {},
   "outputs": [
    {
     "data": {
      "text/plain": [
       "5"
      ]
     },
     "execution_count": 24,
     "metadata": {},
     "output_type": "execute_result"
    }
   ],
   "source": [
    "dogs"
   ]
  },
  {
   "cell_type": "code",
   "execution_count": 25,
   "id": "ceff2b41",
   "metadata": {},
   "outputs": [
    {
     "data": {
      "text/plain": [
       "20011"
      ]
     },
     "execution_count": 25,
     "metadata": {},
     "output_type": "execute_result"
    }
   ],
   "source": [
    "'20011'\n",
    "20011"
   ]
  },
  {
   "cell_type": "code",
   "execution_count": 26,
   "id": "f8b6a096",
   "metadata": {},
   "outputs": [
    {
     "data": {
      "text/plain": [
       "str"
      ]
     },
     "execution_count": 26,
     "metadata": {},
     "output_type": "execute_result"
    }
   ],
   "source": [
    "type('20011')"
   ]
  },
  {
   "cell_type": "code",
   "execution_count": 27,
   "id": "4a616716",
   "metadata": {},
   "outputs": [
    {
     "data": {
      "text/plain": [
       "int"
      ]
     },
     "execution_count": 27,
     "metadata": {},
     "output_type": "execute_result"
    }
   ],
   "source": [
    "type(20011)"
   ]
  },
  {
   "cell_type": "code",
   "execution_count": 28,
   "id": "6291fa2a",
   "metadata": {},
   "outputs": [
    {
     "data": {
      "text/plain": [
       "['__add__',\n",
       " '__class__',\n",
       " '__contains__',\n",
       " '__delattr__',\n",
       " '__dir__',\n",
       " '__doc__',\n",
       " '__eq__',\n",
       " '__format__',\n",
       " '__ge__',\n",
       " '__getattribute__',\n",
       " '__getitem__',\n",
       " '__getnewargs__',\n",
       " '__gt__',\n",
       " '__hash__',\n",
       " '__init__',\n",
       " '__init_subclass__',\n",
       " '__iter__',\n",
       " '__le__',\n",
       " '__len__',\n",
       " '__lt__',\n",
       " '__mod__',\n",
       " '__mul__',\n",
       " '__ne__',\n",
       " '__new__',\n",
       " '__reduce__',\n",
       " '__reduce_ex__',\n",
       " '__repr__',\n",
       " '__rmod__',\n",
       " '__rmul__',\n",
       " '__setattr__',\n",
       " '__sizeof__',\n",
       " '__str__',\n",
       " '__subclasshook__',\n",
       " 'capitalize',\n",
       " 'casefold',\n",
       " 'center',\n",
       " 'count',\n",
       " 'encode',\n",
       " 'endswith',\n",
       " 'expandtabs',\n",
       " 'find',\n",
       " 'format',\n",
       " 'format_map',\n",
       " 'index',\n",
       " 'isalnum',\n",
       " 'isalpha',\n",
       " 'isascii',\n",
       " 'isdecimal',\n",
       " 'isdigit',\n",
       " 'isidentifier',\n",
       " 'islower',\n",
       " 'isnumeric',\n",
       " 'isprintable',\n",
       " 'isspace',\n",
       " 'istitle',\n",
       " 'isupper',\n",
       " 'join',\n",
       " 'ljust',\n",
       " 'lower',\n",
       " 'lstrip',\n",
       " 'maketrans',\n",
       " 'partition',\n",
       " 'removeprefix',\n",
       " 'removesuffix',\n",
       " 'replace',\n",
       " 'rfind',\n",
       " 'rindex',\n",
       " 'rjust',\n",
       " 'rpartition',\n",
       " 'rsplit',\n",
       " 'rstrip',\n",
       " 'split',\n",
       " 'splitlines',\n",
       " 'startswith',\n",
       " 'strip',\n",
       " 'swapcase',\n",
       " 'title',\n",
       " 'translate',\n",
       " 'upper',\n",
       " 'zfill']"
      ]
     },
     "execution_count": 28,
     "metadata": {},
     "output_type": "execute_result"
    }
   ],
   "source": [
    "dir('cat,dog,horse') #string"
   ]
  },
  {
   "cell_type": "raw",
   "id": "a350d75a",
   "metadata": {},
   "source": [
    "'cat,dog,horse'.split(',')"
   ]
  },
  {
   "cell_type": "code",
   "execution_count": 30,
   "id": "06fe6e01",
   "metadata": {},
   "outputs": [
    {
     "data": {
      "text/plain": [
       "['__add__',\n",
       " '__class__',\n",
       " '__class_getitem__',\n",
       " '__contains__',\n",
       " '__delattr__',\n",
       " '__delitem__',\n",
       " '__dir__',\n",
       " '__doc__',\n",
       " '__eq__',\n",
       " '__format__',\n",
       " '__ge__',\n",
       " '__getattribute__',\n",
       " '__getitem__',\n",
       " '__gt__',\n",
       " '__hash__',\n",
       " '__iadd__',\n",
       " '__imul__',\n",
       " '__init__',\n",
       " '__init_subclass__',\n",
       " '__iter__',\n",
       " '__le__',\n",
       " '__len__',\n",
       " '__lt__',\n",
       " '__mul__',\n",
       " '__ne__',\n",
       " '__new__',\n",
       " '__reduce__',\n",
       " '__reduce_ex__',\n",
       " '__repr__',\n",
       " '__reversed__',\n",
       " '__rmul__',\n",
       " '__setattr__',\n",
       " '__setitem__',\n",
       " '__sizeof__',\n",
       " '__str__',\n",
       " '__subclasshook__',\n",
       " 'append',\n",
       " 'clear',\n",
       " 'copy',\n",
       " 'count',\n",
       " 'extend',\n",
       " 'index',\n",
       " 'insert',\n",
       " 'pop',\n",
       " 'remove',\n",
       " 'reverse',\n",
       " 'sort']"
      ]
     },
     "execution_count": 30,
     "metadata": {},
     "output_type": "execute_result"
    }
   ],
   "source": [
    "dir(['cat', 'dog', 'horse']) #list"
   ]
  },
  {
   "cell_type": "code",
   "execution_count": 31,
   "id": "f0770406",
   "metadata": {},
   "outputs": [],
   "source": [
    "animals = ['cat', 'dog', 'horse']#assign list to var"
   ]
  },
  {
   "cell_type": "code",
   "execution_count": 32,
   "id": "fcfed4b4",
   "metadata": {},
   "outputs": [
    {
     "data": {
      "text/plain": [
       "['cat', 'dog', 'horse']"
      ]
     },
     "execution_count": 32,
     "metadata": {},
     "output_type": "execute_result"
    }
   ],
   "source": [
    "animals"
   ]
  },
  {
   "cell_type": "code",
   "execution_count": 33,
   "id": "d821ee34",
   "metadata": {},
   "outputs": [],
   "source": [
    "animals.reverse()"
   ]
  },
  {
   "cell_type": "code",
   "execution_count": 34,
   "id": "8bd13f13",
   "metadata": {},
   "outputs": [
    {
     "data": {
      "text/plain": [
       "['horse', 'dog', 'cat']"
      ]
     },
     "execution_count": 34,
     "metadata": {},
     "output_type": "execute_result"
    }
   ],
   "source": [
    "animals"
   ]
  },
  {
   "cell_type": "code",
   "execution_count": 35,
   "id": "9df61c13",
   "metadata": {},
   "outputs": [],
   "source": [
    "animals.sort()"
   ]
  },
  {
   "cell_type": "code",
   "execution_count": 36,
   "id": "9f7f1fa5",
   "metadata": {},
   "outputs": [
    {
     "data": {
      "text/plain": [
       "['cat', 'dog', 'horse']"
      ]
     },
     "execution_count": 36,
     "metadata": {},
     "output_type": "execute_result"
    }
   ],
   "source": [
    "animals"
   ]
  },
  {
   "cell_type": "code",
   "execution_count": 37,
   "id": "a319027e",
   "metadata": {},
   "outputs": [
    {
     "data": {
      "text/plain": [
       "['__abs__',\n",
       " '__add__',\n",
       " '__and__',\n",
       " '__bool__',\n",
       " '__ceil__',\n",
       " '__class__',\n",
       " '__delattr__',\n",
       " '__dir__',\n",
       " '__divmod__',\n",
       " '__doc__',\n",
       " '__eq__',\n",
       " '__float__',\n",
       " '__floor__',\n",
       " '__floordiv__',\n",
       " '__format__',\n",
       " '__ge__',\n",
       " '__getattribute__',\n",
       " '__getnewargs__',\n",
       " '__gt__',\n",
       " '__hash__',\n",
       " '__index__',\n",
       " '__init__',\n",
       " '__init_subclass__',\n",
       " '__int__',\n",
       " '__invert__',\n",
       " '__le__',\n",
       " '__lshift__',\n",
       " '__lt__',\n",
       " '__mod__',\n",
       " '__mul__',\n",
       " '__ne__',\n",
       " '__neg__',\n",
       " '__new__',\n",
       " '__or__',\n",
       " '__pos__',\n",
       " '__pow__',\n",
       " '__radd__',\n",
       " '__rand__',\n",
       " '__rdivmod__',\n",
       " '__reduce__',\n",
       " '__reduce_ex__',\n",
       " '__repr__',\n",
       " '__rfloordiv__',\n",
       " '__rlshift__',\n",
       " '__rmod__',\n",
       " '__rmul__',\n",
       " '__ror__',\n",
       " '__round__',\n",
       " '__rpow__',\n",
       " '__rrshift__',\n",
       " '__rshift__',\n",
       " '__rsub__',\n",
       " '__rtruediv__',\n",
       " '__rxor__',\n",
       " '__setattr__',\n",
       " '__sizeof__',\n",
       " '__str__',\n",
       " '__sub__',\n",
       " '__subclasshook__',\n",
       " '__truediv__',\n",
       " '__trunc__',\n",
       " '__xor__',\n",
       " 'as_integer_ratio',\n",
       " 'bit_length',\n",
       " 'conjugate',\n",
       " 'denominator',\n",
       " 'from_bytes',\n",
       " 'imag',\n",
       " 'numerator',\n",
       " 'real',\n",
       " 'to_bytes']"
      ]
     },
     "execution_count": 37,
     "metadata": {},
     "output_type": "execute_result"
    }
   ],
   "source": [
    "dir(1)"
   ]
  },
  {
   "cell_type": "code",
   "execution_count": 38,
   "id": "7aa1d7b0",
   "metadata": {},
   "outputs": [],
   "source": [
    "#dir gives you insight into the built-in methods for each Python data type"
   ]
  },
  {
   "cell_type": "code",
   "execution_count": 39,
   "id": "657aed7c",
   "metadata": {},
   "outputs": [],
   "source": [
    "animals = 'cat,dog,horse'"
   ]
  },
  {
   "cell_type": "code",
   "execution_count": 40,
   "id": "446aa728",
   "metadata": {},
   "outputs": [
    {
     "data": {
      "text/plain": [
       "['cat,dog,horse']"
      ]
     },
     "execution_count": 40,
     "metadata": {},
     "output_type": "execute_result"
    }
   ],
   "source": [
    "animals.split() #python put our string into a list"
   ]
  },
  {
   "cell_type": "code",
   "execution_count": 41,
   "id": "2f2625cb",
   "metadata": {},
   "outputs": [],
   "source": [
    "#This is because the built-in split method defaults to splitting the string on spaces, not commas."
   ]
  },
  {
   "cell_type": "code",
   "execution_count": 42,
   "id": "d386dee4",
   "metadata": {},
   "outputs": [],
   "source": [
    "animals = 'cat,dog,horse'"
   ]
  },
  {
   "cell_type": "code",
   "execution_count": 43,
   "id": "0e74b2a1",
   "metadata": {},
   "outputs": [
    {
     "name": "stdout",
     "output_type": "stream",
     "text": [
      "Help on built-in function split:\n",
      "\n",
      "split(sep=None, maxsplit=-1) method of builtins.str instance\n",
      "    Return a list of the words in the string, using sep as the delimiter string.\n",
      "    \n",
      "    sep\n",
      "      The delimiter according which to split the string.\n",
      "      None (the default value) means split according to any whitespace,\n",
      "      and discard empty strings from the result.\n",
      "    maxsplit\n",
      "      Maximum number of splits to do.\n",
      "      -1 (the default value) means no limit.\n",
      "\n"
     ]
    }
   ],
   "source": [
    "help(animals.split)"
   ]
  },
  {
   "cell_type": "code",
   "execution_count": 44,
   "id": "cda22013",
   "metadata": {},
   "outputs": [
    {
     "name": "stdout",
     "output_type": "stream",
     "text": [
      "['/Users/ragyakaul/Desktop/DataWrangling',\n",
      " '/opt/homebrew/Cellar/python@3.9/3.9.7/Frameworks/Python.framework/Versions/3.9/lib/python39.zip',\n",
      " '/opt/homebrew/Cellar/python@3.9/3.9.7/Frameworks/Python.framework/Versions/3.9/lib/python3.9',\n",
      " '/opt/homebrew/Cellar/python@3.9/3.9.7/Frameworks/Python.framework/Versions/3.9/lib/python3.9/lib-dynload',\n",
      " '',\n",
      " '/opt/homebrew/lib/python3.9/site-packages',\n",
      " '/opt/homebrew/lib/python3.9/site-packages/IPython/extensions',\n",
      " '/Users/ragyakaul/.ipython']\n"
     ]
    }
   ],
   "source": [
    "import sys #import python's sys module\n",
    "import pprint #imports python's sys module\n",
    "pprint.pprint(sys.path) #passes sys.path(list) to pretty"
   ]
  },
  {
   "cell_type": "code",
   "execution_count": 45,
   "id": "faa3e8ee",
   "metadata": {},
   "outputs": [
    {
     "name": "stdout",
     "output_type": "stream",
     "text": [
      "Help on function pprint in module pprint:\n",
      "\n",
      "pprint(object, stream=None, indent=1, width=80, depth=None, *, compact=False, sort_dicts=True)\n",
      "    Pretty-print a Python object to a stream [default is sys.stdout].\n",
      "\n"
     ]
    }
   ],
   "source": [
    "\n",
    "help(pprint.pprint)"
   ]
  },
  {
   "cell_type": "code",
   "execution_count": 46,
   "id": "62510bfb",
   "metadata": {},
   "outputs": [
    {
     "data": {
      "text/plain": [
       "list"
      ]
     },
     "execution_count": 46,
     "metadata": {},
     "output_type": "execute_result"
    }
   ],
   "source": [
    "type(sys.path)"
   ]
  },
  {
   "cell_type": "code",
   "execution_count": 47,
   "id": "cf7cfbaf",
   "metadata": {},
   "outputs": [],
   "source": [
    "animal_names = [\n",
    "    ['Walter', 'Ra', 'Fluffy', 'Killer'],\n",
    "    ['Joker', 'Simon', 'Ellie', 'Lishka', 'Fido'],\n",
    "    ['Mr. Ed', 'Peter', 'Rocket', 'Star']\n",
    "]"
   ]
  },
  {
   "cell_type": "code",
   "execution_count": 48,
   "id": "bca26824",
   "metadata": {},
   "outputs": [
    {
     "name": "stdout",
     "output_type": "stream",
     "text": [
      "[['Walter', 'Ra', 'Fluffy', 'Killer'],\n",
      " ['Joker', 'Simon', 'Ellie', 'Lishka', 'Fido'],\n",
      " ['Mr. Ed', 'Peter', 'Rocket', 'Star']]\n"
     ]
    }
   ],
   "source": [
    "pprint.pprint(animal_names)"
   ]
  },
  {
   "cell_type": "code",
   "execution_count": 49,
   "id": "bc87653a",
   "metadata": {},
   "outputs": [],
   "source": [
    "#String 'Joker'\n",
    "#Integer 2\n",
    "#Float 2.0\n",
    "#Variable animal_names\n",
    "#List ['Joker', 'Simon', 'Ellie']\n",
    "#Dictionary {'cats': 2, 'dogs' : 5, 'horses' : 1}"
   ]
  },
  {
   "cell_type": "code",
   "execution_count": 50,
   "id": "5f7743c9",
   "metadata": {},
   "outputs": [],
   "source": [
    "#type('Joker') Returns what kind of object 'Joker' is\n",
    "#dir('Joker') Returns a list of all the thinsg the object 'Joker' can do\n",
    "#help('Joker',strip) Returns a desc of a specific method so we can better understand how to use it\n"
   ]
  },
  {
   "cell_type": "code",
   "execution_count": null,
   "id": "77437473",
   "metadata": {},
   "outputs": [],
   "source": []
  }
 ],
 "metadata": {
  "kernelspec": {
   "display_name": "Python 3 (ipykernel)",
   "language": "python",
   "name": "python3"
  },
  "language_info": {
   "codemirror_mode": {
    "name": "ipython",
    "version": 3
   },
   "file_extension": ".py",
   "mimetype": "text/x-python",
   "name": "python",
   "nbconvert_exporter": "python",
   "pygments_lexer": "ipython3",
   "version": "3.9.7"
  }
 },
 "nbformat": 4,
 "nbformat_minor": 5
}
