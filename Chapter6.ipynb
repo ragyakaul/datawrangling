{
 "cells": [
  {
   "cell_type": "code",
   "execution_count": 1,
   "id": "5a9357ad",
   "metadata": {},
   "outputs": [
    {
     "data": {
      "text/plain": [
       "'\\n\\nis the data valid?\\nIs it updated? \\nCan I rely on future or current updates and publications?\\nIn this chapter, we will review where you \\ncan save and store data for later use. \\nwe will review when and how to use them and \\ndemonstrate how to set up a simple database to store your data.\\n\\n'"
      ]
     },
     "execution_count": 1,
     "metadata": {},
     "output_type": "execute_result"
    }
   ],
   "source": [
    "\"\"\"\n",
    "\n",
    "is the data valid?\n",
    "Is it updated? \n",
    "Can I rely on future or current updates and publications?\n",
    "In this chapter, we will review where you \n",
    "can save and store data for later use. \n",
    "we will review when and how to use them and \n",
    "demonstrate how to set up a simple database to store your data.\n",
    "\n",
    "\"\"\""
   ]
  },
  {
   "cell_type": "code",
   "execution_count": null,
   "id": "3e4ef79e",
   "metadata": {},
   "outputs": [],
   "source": [
    "\"\"\"\n",
    "////DATA SMELL///\n",
    "\n",
    "• Is the author a veritable source I can contact if I have questions or concerns?\n",
    "• Does the data appear to be regularly updated and checked for errors?\n",
    "• Does the data come with information as to how it was acquired and what types of samples were used in its acquisition?\n",
    "• Is there another source of data that can verify and validate this dataset?\n",
    "• Given my overall knowledge of the topic, does this data seem plausible?\n",
    "\n",
    "\n",
    "\n",
    "\"\"\""
   ]
  },
  {
   "cell_type": "code",
   "execution_count": null,
   "id": "b23eee00",
   "metadata": {},
   "outputs": [],
   "source": [
    "\"\"\"\n",
    "///FACT CHECKING///\n",
    "\n",
    "• Contacting the source(s) and verifying their latest methods and releases\n",
    "• Determining other good sources for comparison\n",
    "• Calling an expert and talking with them about good sources and veritable information\n",
    "• Researching your topic further to determine whether your sources and/or data‐ sets are credible\n",
    "\n",
    "\n",
    "\"\"\""
   ]
  },
  {
   "cell_type": "code",
   "execution_count": null,
   "id": "13b1d6ba",
   "metadata": {},
   "outputs": [],
   "source": [
    "\"\"\"\n",
    "///READABILITY, CLEANLINESS, AND LONGEVITY\n",
    "\n",
    "• How clean is the data?\n",
    "• Has someone taken the time to show statistical error rates or update erroneous entries or misreported data?\n",
    "• Will further updates be published or sent to you?\n",
    "• What methods were used in the collection of the data, and how were those meth‐ ods verified?\n",
    "\n",
    "\n",
    "\"\"\""
   ]
  },
  {
   "cell_type": "code",
   "execution_count": null,
   "id": "e3e2b7e6",
   "metadata": {},
   "outputs": [],
   "source": [
    "\"\"\"\n",
    "///WHERE TO FIND DATA\n",
    "-> Using a Telephone\n",
    "-> If you identify the person who collected the data, you might be able to get ahold of the raw data. \n",
    "\n",
    "• Search the file for contact information.\n",
    "• Look for a byline—if there is no name, look for the organization.\n",
    "• Search for the filename and the title of the document on the Web.\n",
    "• Look at the file metadata by right-clicking and selecting “Properties” on Win‐ dows or “Get Info” on a Mac.\n",
    "\n",
    "To ask:\n",
    "• Where did you get the data on pages 6 through 200?\n",
    "• Does it come in other formats, such as JSON, CSV, XML, or a database?\n",
    "• How was the data gathered?\n",
    "• Can you describe the data collection methods?\n",
    "• What do the abbreviations mean?\n",
    "• Will this data be updated? How and when?\n",
    "• Is there anyone else who can add more information?\n",
    "\n",
    "US Government Data\n",
    "\n",
    "[Next part concerns data from different continents and diff types]\n",
    "Pg 138 - Diff examples of approaching problems: Ebola Crises, Train Safety, etc\n",
    "\"\"\"\n",
    "\n"
   ]
  },
  {
   "cell_type": "code",
   "execution_count": null,
   "id": "6b3c1afc",
   "metadata": {},
   "outputs": [],
   "source": [
    "\"\"\"\n",
    "////Storing Your Data: When, Why, and How?///\n",
    "Our opinion is there are many advances SQL has made to allow for quick lookups when your data is structured with a vast network of relations.\n",
    "\n",
    "\"\"\""
   ]
  },
  {
   "cell_type": "code",
   "execution_count": 3,
   "id": "5a9bbb8a",
   "metadata": {},
   "outputs": [
    {
     "ename": "SyntaxError",
     "evalue": "invalid syntax (<ipython-input-3-c3f8a32f7341>, line 2)",
     "output_type": "error",
     "traceback": [
      "\u001b[0;36m  File \u001b[0;32m\"<ipython-input-3-c3f8a32f7341>\"\u001b[0;36m, line \u001b[0;32m2\u001b[0m\n\u001b[0;31m    pip install dataset\u001b[0m\n\u001b[0m        ^\u001b[0m\n\u001b[0;31mSyntaxError\u001b[0m\u001b[0;31m:\u001b[0m invalid syntax\n"
     ]
    }
   ],
   "source": [
    "#Setting up your local database with python\n",
    "pip install dataset #Installed thru command line, ignore error"
   ]
  },
  {
   "cell_type": "code",
   "execution_count": 4,
   "id": "082d8dac",
   "metadata": {},
   "outputs": [
    {
     "ename": "SyntaxError",
     "evalue": "invalid syntax (<ipython-input-4-5628ca6ec46c>, line 2)",
     "output_type": "error",
     "traceback": [
      "\u001b[0;36m  File \u001b[0;32m\"<ipython-input-4-5628ca6ec46c>\"\u001b[0;36m, line \u001b[0;32m2\u001b[0m\n\u001b[0;31m    sqlite3 data_wrangling.db\u001b[0m\n\u001b[0m            ^\u001b[0m\n\u001b[0;31mSyntaxError\u001b[0m\u001b[0;31m:\u001b[0m invalid syntax\n"
     ]
    }
   ],
   "source": [
    "# You then need to decide on the backend you will use."
   ]
  },
  {
   "cell_type": "code",
   "execution_count": 7,
   "id": "76fe50fb",
   "metadata": {},
   "outputs": [
    {
     "name": "stdout",
     "output_type": "stream",
     "text": [
      "Chapter2.ipynb                      Untitled1.ipynb\r\n",
      "Chapter3.ipynb                      data-text.csv\r\n",
      "Chapter4.ipynb                      data-text.json\r\n",
      "Chapter5.ipynb                      data-text.xml\r\n",
      "Chapter5_new.ipynb                  data_wrangling.db\r\n",
      "Chapter6.ipynb                      data_wrangling.db-shm\r\n",
      "EN-FINAL Table 9.pdf                data_wrangling.db-wal\r\n",
      "SOWC 2014 Stat Tables_Table 9.xlsx  en-final-table9.txt\r\n",
      "Untitled.ipynb                      import_xml_data.ipynb\r\n"
     ]
    }
   ],
   "source": [
    "ls # did previous action thru command prompt and obtained data_wrangling.db"
   ]
  },
  {
   "cell_type": "code",
   "execution_count": 8,
   "id": "a771f57e",
   "metadata": {},
   "outputs": [
    {
     "name": "stdout",
     "output_type": "stream",
     "text": [
      "<dataset.util.ResultIter object at 0x7f82728cac10>\n"
     ]
    }
   ],
   "source": [
    "import dataset\n",
    "\n",
    "db = dataset.connect('sqlite:///data_wrangling.db')\n",
    "\n",
    "my_data_source = {\n",
    "    'url':\n",
    "    'http://www.tsmplug.com/football/premier-league-player-salaries-club-by-club/',\n",
    "    'description': 'Premier League Club Salaries',\n",
    "    'topic': 'football',\n",
    "    'verified': False, # Creates a Python dictionary of the data we are looking to save. We are saving the sources for our football research. \n",
    "}\n",
    "\n",
    "table = db['data_sources'] # Creates a new table called data_sources.\n",
    "table.insert(my_data_source) # Inserts our first data source into our new table.\n",
    "\n",
    "another_data_source = {\n",
    "      'url':\n",
    "      'http://www.premierleague.com/content/premierleague/en-gb/players/index.html',\n",
    "      'description': 'Premier League Stats',\n",
    "      'topic': 'football',\n",
    "      'verified': True,\n",
    "} \n",
    "\n",
    "table.insert(another_data_source)\n",
    "\n",
    "sources = db['data_sources'].all() # Shows all of the data sources we have stored in our data_sources table.\n",
    "\n",
    "print(sources)"
   ]
  },
  {
   "cell_type": "code",
   "execution_count": null,
   "id": "4475422f",
   "metadata": {},
   "outputs": [],
   "source": []
  }
 ],
 "metadata": {
  "kernelspec": {
   "display_name": "Python 3",
   "language": "python",
   "name": "python3"
  },
  "language_info": {
   "codemirror_mode": {
    "name": "ipython",
    "version": 3
   },
   "file_extension": ".py",
   "mimetype": "text/x-python",
   "name": "python",
   "nbconvert_exporter": "python",
   "pygments_lexer": "ipython3",
   "version": "3.8.8"
  }
 },
 "nbformat": 4,
 "nbformat_minor": 5
}
